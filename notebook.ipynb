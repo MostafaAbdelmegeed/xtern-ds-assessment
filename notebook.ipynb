{
 "cells": [
  {
   "cell_type": "markdown",
   "metadata": {},
   "source": [
    "We start by importing modules we are going to use"
   ]
  },
  {
   "cell_type": "code",
   "execution_count": 343,
   "metadata": {},
   "outputs": [],
   "source": [
    "import googlemaps\n",
    "import geocoder\n",
    "import pandas as pd\n",
    "from datetime import datetime\n",
    "import numpy as np\n",
    "import urllib.parse"
   ]
  },
  {
   "cell_type": "markdown",
   "metadata": {},
   "source": [
    "Some Constants and Parameters that are defined here"
   ]
  },
  {
   "cell_type": "code",
   "execution_count": 344,
   "metadata": {},
   "outputs": [],
   "source": [
    "CUISINE_LIST = [\n",
    "    \"Italian\", \"Pizza\", \"Pasta\",\n",
    "    \"Mexican\", \"Taco\", \"Burrito\",\n",
    "    \"Chinese\", \"Dimsum\", \"Noodles\",\n",
    "    \"Japanese\", \"Sushi\", \"Ramen\",\n",
    "    \"Indian\", \"Curry\", \"Biryani\",\n",
    "    \"Thai\", \"Pad Thai\", \"Tom Yum\",\n",
    "    \"Greek\", \"Gyro\", \"Moussaka\",\n",
    "    \"French\", \"Baguette\", \"Croissant\",\n",
    "    \"Spanish\", \"Paella\", \"Tapas\",\n",
    "    \"American\", \"Burger\", \"Steak\",\n",
    "    \"Middle Eastern\", \"Falafel\", \"Shawarma\",\n",
    "    \"Vietnamese\", \"Pho\", \"Banh Mi\"\n",
    "]\n",
    "SEARCH_RADIUS=500\n",
    "SEARCH_TYPE='restaurant'\n",
    "KEYWORDS=['food truck', 'food cart']"
   ]
  },
  {
   "cell_type": "markdown",
   "metadata": {},
   "source": [
    "Then we get a google maps client using our API_KEY"
   ]
  },
  {
   "cell_type": "code",
   "execution_count": 345,
   "metadata": {},
   "outputs": [],
   "source": [
    "# API_KEY \n",
    "API_KEY = ''\n",
    "gmaps = googlemaps.Client(key=API_KEY)"
   ]
  },
  {
   "cell_type": "markdown",
   "metadata": {},
   "source": [
    "Starting by getting the current location, then getting today's weekday and then starting the search process using the defined parameters to get all the nearby places of interest"
   ]
  },
  {
   "cell_type": "code",
   "execution_count": 346,
   "metadata": {},
   "outputs": [],
   "source": [
    "location=geocoder.ip('me').latlng\n",
    "location_s=gmaps.reverse_geocode(location)[0]['formatted_address']\n",
    "today= datetime.now().strftime('%A')\n",
    "results = gmaps.places_nearby(location=location, radius=SEARCH_RADIUS, type=SEARCH_TYPE, keyword=KEYWORDS)"
   ]
  },
  {
   "cell_type": "markdown",
   "metadata": {},
   "source": [
    "Here we are getting place_id which could be used then to get more details about the places we found"
   ]
  },
  {
   "cell_type": "code",
   "execution_count": 347,
   "metadata": {},
   "outputs": [],
   "source": [
    "results = [result['place_id'] for result in results['results']]"
   ]
  },
  {
   "cell_type": "markdown",
   "metadata": {},
   "source": [
    "Creating a dataframe"
   ]
  },
  {
   "cell_type": "code",
   "execution_count": 348,
   "metadata": {},
   "outputs": [],
   "source": [
    "df = pd.DataFrame({'place_id':results})"
   ]
  },
  {
   "cell_type": "markdown",
   "metadata": {},
   "source": [
    "Using pandas.apply and lambda to get the fields we need from the gmaps response we got earlier"
   ]
  },
  {
   "cell_type": "code",
   "execution_count": 349,
   "metadata": {},
   "outputs": [],
   "source": [
    "df['place_details'] = df['place_id'].apply(lambda x: gmaps.place(place_id=x, \n",
    "                                                                 fields=['name','formatted_address','rating','website', 'opening_hours'])['result'] if gmaps.place(place_id=x) else None)"
   ]
  },
  {
   "cell_type": "markdown",
   "metadata": {},
   "source": [
    "Here we are dropping irrelevant columns and renaming existing ones to be more convienient"
   ]
  },
  {
   "cell_type": "code",
   "execution_count": 350,
   "metadata": {},
   "outputs": [],
   "source": [
    "df=df.join(pd.json_normalize(df['place_details']),how='right').drop(['place_id', 'place_details', 'opening_hours.open_now', 'opening_hours.periods'], axis=1)\n",
    "df = df.rename(columns={'name':'Name','formatted_address':'Address','rating':'Rating','website':'Website', 'opening_hours.weekday_text':'Hours'})\n",
    "df = df[['Name', 'Address', 'Rating', 'Website', 'Hours']]"
   ]
  },
  {
   "cell_type": "markdown",
   "metadata": {},
   "source": [
    "Trying to deduce cuisine from the name of the restaurant as there were no data that could be used from google maps that could tell which cuisine is which"
   ]
  },
  {
   "cell_type": "code",
   "execution_count": 351,
   "metadata": {},
   "outputs": [
    {
     "data": {
      "text/html": [
       "<div>\n",
       "<style scoped>\n",
       "    .dataframe tbody tr th:only-of-type {\n",
       "        vertical-align: middle;\n",
       "    }\n",
       "\n",
       "    .dataframe tbody tr th {\n",
       "        vertical-align: top;\n",
       "    }\n",
       "\n",
       "    .dataframe thead th {\n",
       "        text-align: right;\n",
       "    }\n",
       "</style>\n",
       "<table border=\"1\" class=\"dataframe\">\n",
       "  <thead>\n",
       "    <tr style=\"text-align: right;\">\n",
       "      <th></th>\n",
       "      <th>Name</th>\n",
       "      <th>Address</th>\n",
       "      <th>Rating</th>\n",
       "      <th>Website</th>\n",
       "      <th>Hours</th>\n",
       "      <th>Cuisine</th>\n",
       "    </tr>\n",
       "  </thead>\n",
       "  <tbody>\n",
       "    <tr>\n",
       "      <th>0</th>\n",
       "      <td>Sweet's Turkey BBQ and Catering (Food Truck)</td>\n",
       "      <td>Greensboro, NC 27401, USA</td>\n",
       "      <td>4.1</td>\n",
       "      <td>NaN</td>\n",
       "      <td>NaN</td>\n",
       "      <td>None</td>\n",
       "    </tr>\n",
       "    <tr>\n",
       "      <th>1</th>\n",
       "      <td>Maho's Bistro</td>\n",
       "      <td>200 S Greene St, Greensboro, NC 27406, USA</td>\n",
       "      <td>4.3</td>\n",
       "      <td>NaN</td>\n",
       "      <td>NaN</td>\n",
       "      <td>None</td>\n",
       "    </tr>\n",
       "    <tr>\n",
       "      <th>2</th>\n",
       "      <td>Skeel's Ice Cream Trucks</td>\n",
       "      <td>Greensboro, NC 27401, USA</td>\n",
       "      <td>5.0</td>\n",
       "      <td>http://www.skeelsicecreamtrucks.com/</td>\n",
       "      <td>[Monday: Open 24 hours, Tuesday: Open 24 hours...</td>\n",
       "      <td>None</td>\n",
       "    </tr>\n",
       "  </tbody>\n",
       "</table>\n",
       "</div>"
      ],
      "text/plain": [
       "                                           Name  \\\n",
       "0  Sweet's Turkey BBQ and Catering (Food Truck)   \n",
       "1                                 Maho's Bistro   \n",
       "2                      Skeel's Ice Cream Trucks   \n",
       "\n",
       "                                      Address  Rating  \\\n",
       "0                   Greensboro, NC 27401, USA     4.1   \n",
       "1  200 S Greene St, Greensboro, NC 27406, USA     4.3   \n",
       "2                   Greensboro, NC 27401, USA     5.0   \n",
       "\n",
       "                                Website  \\\n",
       "0                                   NaN   \n",
       "1                                   NaN   \n",
       "2  http://www.skeelsicecreamtrucks.com/   \n",
       "\n",
       "                                               Hours Cuisine  \n",
       "0                                                NaN    None  \n",
       "1                                                NaN    None  \n",
       "2  [Monday: Open 24 hours, Tuesday: Open 24 hours...    None  "
      ]
     },
     "execution_count": 351,
     "metadata": {},
     "output_type": "execute_result"
    }
   ],
   "source": [
    "df['Cuisine'] = df['Name'].apply(lambda name: next((cuisine for cuisine in CUISINE_LIST if cuisine.lower() in name.lower()), None))\n",
    "df.head(3)"
   ]
  },
  {
   "cell_type": "markdown",
   "metadata": {},
   "source": [
    "Method for converting google maps format of opening hours, to make it more readable and convienient to reader"
   ]
  },
  {
   "cell_type": "code",
   "execution_count": 352,
   "metadata": {},
   "outputs": [],
   "source": [
    "def convert_to_today_open_hours(x):\n",
    "    today = datetime.now().strftime('%A')\n",
    "    if x is np.nan:\n",
    "        return x\n",
    "    for i in x:\n",
    "        if today in i:\n",
    "            return i[len(today)+1:]\n",
    "    return np.nan"
   ]
  },
  {
   "cell_type": "code",
   "execution_count": 353,
   "metadata": {},
   "outputs": [
    {
     "data": {
      "text/html": [
       "<div>\n",
       "<style scoped>\n",
       "    .dataframe tbody tr th:only-of-type {\n",
       "        vertical-align: middle;\n",
       "    }\n",
       "\n",
       "    .dataframe tbody tr th {\n",
       "        vertical-align: top;\n",
       "    }\n",
       "\n",
       "    .dataframe thead th {\n",
       "        text-align: right;\n",
       "    }\n",
       "</style>\n",
       "<table border=\"1\" class=\"dataframe\">\n",
       "  <thead>\n",
       "    <tr style=\"text-align: right;\">\n",
       "      <th></th>\n",
       "      <th>Name</th>\n",
       "      <th>Address</th>\n",
       "      <th>Rating</th>\n",
       "      <th>Website</th>\n",
       "      <th>Hours</th>\n",
       "      <th>Cuisine</th>\n",
       "    </tr>\n",
       "  </thead>\n",
       "  <tbody>\n",
       "    <tr>\n",
       "      <th>0</th>\n",
       "      <td>Sweet's Turkey BBQ and Catering (Food Truck)</td>\n",
       "      <td>Greensboro, NC 27401, USA</td>\n",
       "      <td>4.1</td>\n",
       "      <td>NaN</td>\n",
       "      <td>NaN</td>\n",
       "      <td>None</td>\n",
       "    </tr>\n",
       "    <tr>\n",
       "      <th>1</th>\n",
       "      <td>Maho's Bistro</td>\n",
       "      <td>200 S Greene St, Greensboro, NC 27406, USA</td>\n",
       "      <td>4.3</td>\n",
       "      <td>NaN</td>\n",
       "      <td>NaN</td>\n",
       "      <td>None</td>\n",
       "    </tr>\n",
       "    <tr>\n",
       "      <th>2</th>\n",
       "      <td>Skeel's Ice Cream Trucks</td>\n",
       "      <td>Greensboro, NC 27401, USA</td>\n",
       "      <td>5.0</td>\n",
       "      <td>http://www.skeelsicecreamtrucks.com/</td>\n",
       "      <td>Open 24 hours</td>\n",
       "      <td>None</td>\n",
       "    </tr>\n",
       "    <tr>\n",
       "      <th>3</th>\n",
       "      <td>International Food, LLC</td>\n",
       "      <td>114 N Elm St #108, Greensboro, NC 27401, USA</td>\n",
       "      <td>4.8</td>\n",
       "      <td>NaN</td>\n",
       "      <td>Closed</td>\n",
       "      <td>None</td>\n",
       "    </tr>\n",
       "    <tr>\n",
       "      <th>4</th>\n",
       "      <td>Crafted The Art of the Taco</td>\n",
       "      <td>220 S Elm St, Greensboro, NC 27401, USA</td>\n",
       "      <td>4.4</td>\n",
       "      <td>http://www.eatatcrafted.com/</td>\n",
       "      <td>11:30 AM – 9:00 PM</td>\n",
       "      <td>Taco</td>\n",
       "    </tr>\n",
       "  </tbody>\n",
       "</table>\n",
       "</div>"
      ],
      "text/plain": [
       "                                           Name  \\\n",
       "0  Sweet's Turkey BBQ and Catering (Food Truck)   \n",
       "1                                 Maho's Bistro   \n",
       "2                      Skeel's Ice Cream Trucks   \n",
       "3                       International Food, LLC   \n",
       "4                   Crafted The Art of the Taco   \n",
       "\n",
       "                                        Address  Rating  \\\n",
       "0                     Greensboro, NC 27401, USA     4.1   \n",
       "1    200 S Greene St, Greensboro, NC 27406, USA     4.3   \n",
       "2                     Greensboro, NC 27401, USA     5.0   \n",
       "3  114 N Elm St #108, Greensboro, NC 27401, USA     4.8   \n",
       "4       220 S Elm St, Greensboro, NC 27401, USA     4.4   \n",
       "\n",
       "                                Website                Hours Cuisine  \n",
       "0                                   NaN                  NaN    None  \n",
       "1                                   NaN                  NaN    None  \n",
       "2  http://www.skeelsicecreamtrucks.com/        Open 24 hours    None  \n",
       "3                                   NaN               Closed    None  \n",
       "4          http://www.eatatcrafted.com/   11:30 AM – 9:00 PM    Taco  "
      ]
     },
     "execution_count": 353,
     "metadata": {},
     "output_type": "execute_result"
    }
   ],
   "source": [
    "df['Hours'] = df['Hours'].apply(convert_to_today_open_hours)\n",
    "df.head(10)"
   ]
  },
  {
   "cell_type": "markdown",
   "metadata": {},
   "source": [
    "Exporting the dataframe into a csv file"
   ]
  },
  {
   "cell_type": "code",
   "execution_count": 354,
   "metadata": {},
   "outputs": [],
   "source": [
    "df.to_csv('food_trucks_around_me.csv', mode='w')"
   ]
  },
  {
   "cell_type": "markdown",
   "metadata": {},
   "source": [
    "A method to get all the relevant details of a place of interest, like directions, traveling time, distance, and if the distance is less than a mile, the transportation method is set to be walking otherwise it's driving."
   ]
  },
  {
   "cell_type": "code",
   "execution_count": 355,
   "metadata": {},
   "outputs": [],
   "source": [
    "def get_travel_details(x):\n",
    "    location=geocoder.ip('me').latlng\n",
    "    location_s=gmaps.reverse_geocode(location)[0]['formatted_address']\n",
    "    directions = gmaps.directions(location_s, x)\n",
    "    distance = directions[0]['legs'][0]['distance']['text']\n",
    "    transportation= 'walking' if float(distance.split(' ')[0]) < 1.0 else 'driving'\n",
    "    directions= gmaps.directions(location, x, mode=transportation)\n",
    "    travel_time=directions[0]['legs'][0]['duration']['text']\n",
    "    return pd.Series([distance, transportation, travel_time])"
   ]
  },
  {
   "cell_type": "markdown",
   "metadata": {},
   "source": [
    "Grouping everything together to have something convienient to the user into a single dataframe"
   ]
  },
  {
   "cell_type": "code",
   "execution_count": 356,
   "metadata": {},
   "outputs": [
    {
     "name": "stderr",
     "output_type": "stream",
     "text": [
      "C:\\Users\\mosta\\AppData\\Local\\Temp\\ipykernel_15996\\416366572.py:2: SettingWithCopyWarning: \n",
      "A value is trying to be set on a copy of a slice from a DataFrame.\n",
      "Try using .loc[row_indexer,col_indexer] = value instead\n",
      "\n",
      "See the caveats in the documentation: https://pandas.pydata.org/pandas-docs/stable/user_guide/indexing.html#returning-a-view-versus-a-copy\n",
      "  plan[['Travel Distance', 'Transportation Type', 'Travel Time']] = plan['Address'].apply(get_travel_details)\n"
     ]
    },
    {
     "data": {
      "text/html": [
       "<div>\n",
       "<style scoped>\n",
       "    .dataframe tbody tr th:only-of-type {\n",
       "        vertical-align: middle;\n",
       "    }\n",
       "\n",
       "    .dataframe tbody tr th {\n",
       "        vertical-align: top;\n",
       "    }\n",
       "\n",
       "    .dataframe thead th {\n",
       "        text-align: right;\n",
       "    }\n",
       "</style>\n",
       "<table border=\"1\" class=\"dataframe\">\n",
       "  <thead>\n",
       "    <tr style=\"text-align: right;\">\n",
       "      <th></th>\n",
       "      <th>Name</th>\n",
       "      <th>Address</th>\n",
       "      <th>Cuisine</th>\n",
       "      <th>Hours</th>\n",
       "      <th>Travel Distance</th>\n",
       "      <th>Transportation Type</th>\n",
       "      <th>Travel Time</th>\n",
       "    </tr>\n",
       "  </thead>\n",
       "  <tbody>\n",
       "    <tr>\n",
       "      <th>0</th>\n",
       "      <td>Sweet's Turkey BBQ and Catering (Food Truck)</td>\n",
       "      <td>Greensboro, NC 27401, USA</td>\n",
       "      <td>None</td>\n",
       "      <td>NaN</td>\n",
       "      <td>2.6 mi</td>\n",
       "      <td>driving</td>\n",
       "      <td>6 mins</td>\n",
       "    </tr>\n",
       "    <tr>\n",
       "      <th>1</th>\n",
       "      <td>Maho's Bistro</td>\n",
       "      <td>200 S Greene St, Greensboro, NC 27406, USA</td>\n",
       "      <td>None</td>\n",
       "      <td>NaN</td>\n",
       "      <td>0.1 mi</td>\n",
       "      <td>walking</td>\n",
       "      <td>2 mins</td>\n",
       "    </tr>\n",
       "    <tr>\n",
       "      <th>2</th>\n",
       "      <td>Skeel's Ice Cream Trucks</td>\n",
       "      <td>Greensboro, NC 27401, USA</td>\n",
       "      <td>None</td>\n",
       "      <td>Open 24 hours</td>\n",
       "      <td>2.6 mi</td>\n",
       "      <td>driving</td>\n",
       "      <td>6 mins</td>\n",
       "    </tr>\n",
       "    <tr>\n",
       "      <th>3</th>\n",
       "      <td>International Food, LLC</td>\n",
       "      <td>114 N Elm St #108, Greensboro, NC 27401, USA</td>\n",
       "      <td>None</td>\n",
       "      <td>Closed</td>\n",
       "      <td>0.1 mi</td>\n",
       "      <td>walking</td>\n",
       "      <td>3 mins</td>\n",
       "    </tr>\n",
       "    <tr>\n",
       "      <th>4</th>\n",
       "      <td>Crafted The Art of the Taco</td>\n",
       "      <td>220 S Elm St, Greensboro, NC 27401, USA</td>\n",
       "      <td>Taco</td>\n",
       "      <td>11:30 AM – 9:00 PM</td>\n",
       "      <td>0.2 mi</td>\n",
       "      <td>walking</td>\n",
       "      <td>5 mins</td>\n",
       "    </tr>\n",
       "  </tbody>\n",
       "</table>\n",
       "</div>"
      ],
      "text/plain": [
       "                                           Name  \\\n",
       "0  Sweet's Turkey BBQ and Catering (Food Truck)   \n",
       "1                                 Maho's Bistro   \n",
       "2                      Skeel's Ice Cream Trucks   \n",
       "3                       International Food, LLC   \n",
       "4                   Crafted The Art of the Taco   \n",
       "\n",
       "                                        Address Cuisine                Hours  \\\n",
       "0                     Greensboro, NC 27401, USA    None                  NaN   \n",
       "1    200 S Greene St, Greensboro, NC 27406, USA    None                  NaN   \n",
       "2                     Greensboro, NC 27401, USA    None        Open 24 hours   \n",
       "3  114 N Elm St #108, Greensboro, NC 27401, USA    None               Closed   \n",
       "4       220 S Elm St, Greensboro, NC 27401, USA    Taco   11:30 AM – 9:00 PM   \n",
       "\n",
       "  Travel Distance Transportation Type Travel Time  \n",
       "0          2.6 mi             driving      6 mins  \n",
       "1          0.1 mi             walking      2 mins  \n",
       "2          2.6 mi             driving      6 mins  \n",
       "3          0.1 mi             walking      3 mins  \n",
       "4          0.2 mi             walking      5 mins  "
      ]
     },
     "execution_count": 356,
     "metadata": {},
     "output_type": "execute_result"
    }
   ],
   "source": [
    "plan = df[['Name', 'Address', 'Cuisine', 'Hours']]\n",
    "plan[['Travel Distance', 'Transportation Type', 'Travel Time']] = plan['Address'].apply(get_travel_details)\n",
    "plan.head()"
   ]
  },
  {
   "cell_type": "markdown",
   "metadata": {},
   "source": [
    "Exporting the dataframe to a csv file"
   ]
  },
  {
   "cell_type": "code",
   "execution_count": 357,
   "metadata": {},
   "outputs": [],
   "source": [
    "plan.to_csv('plan.csv', mode='w')"
   ]
  },
  {
   "cell_type": "markdown",
   "metadata": {},
   "source": [
    "Using the furthest place of interest as a destination, and using the rest of the places as waypoints, we can figure the optimized directions to visit all the suggested places around us."
   ]
  },
  {
   "cell_type": "code",
   "execution_count": 358,
   "metadata": {},
   "outputs": [],
   "source": [
    "# directions=gmaps.directions(location,))\n",
    "idx=plan['Travel Distance'].idxmax()\n",
    "destination=plan.loc[idx, 'Name']"
   ]
  },
  {
   "cell_type": "markdown",
   "metadata": {},
   "source": [
    "This function is made to generate a url to get a google maps link that could be used for navigating"
   ]
  },
  {
   "cell_type": "code",
   "execution_count": 359,
   "metadata": {},
   "outputs": [],
   "source": [
    "def generate_gmaps_url(origin, destination, waypoints=None, mode='driving'):\n",
    "    prefix=\"https://www.google.com/maps/dir/?api=1\"\n",
    "    origin=urllib.parse.quote_plus(origin)\n",
    "    destination = urllib.parse.quote_plus(destination)\n",
    "    url = f\"{prefix}&origin={origin}&destination={destination}\"\n",
    "    if waypoints is not None:\n",
    "        waypoints = '|'.join(urllib.parse.quote_plus(waypoint) for waypoint in waypoints)\n",
    "        url += f\"&waypoints={waypoints}\"\n",
    "    url += f\"&travelmode={mode}\"\n",
    "    return url"
   ]
  },
  {
   "cell_type": "markdown",
   "metadata": {},
   "source": [
    "Final output, a list of directions, and a link for the direction via google maps viewport."
   ]
  },
  {
   "cell_type": "code",
   "execution_count": 360,
   "metadata": {},
   "outputs": [
    {
     "name": "stdout",
     "output_type": "stream",
     "text": [
      "Leg 1:\n",
      "  Start: 216 W Market St, Greensboro, NC 27401, USA\n",
      "  End: Greensboro, NC 27401, USA\n",
      "  Distance: 20 ft\n",
      "  Duration: 1 min\n",
      "Leg 2:\n",
      "  Start: Greensboro, NC 27401, USA\n",
      "  End: Greensboro, NC 27401, USA\n",
      "  Distance: 3 ft\n",
      "  Duration: 1 min\n",
      "Leg 3:\n",
      "  Start: Greensboro, NC 27401, USA\n",
      "  End: 200 S Greene St, Greensboro, NC 27406, USA\n",
      "  Distance: 0.1 mi\n",
      "  Duration: 1 min\n",
      "Leg 4:\n",
      "  Start: 200 S Greene St, Greensboro, NC 27406, USA\n",
      "  End: 220 S Elm St, Greensboro, NC 27401, USA\n",
      "  Distance: 0.2 mi\n",
      "  Duration: 1 min\n",
      "Leg 5:\n",
      "  Start: 220 S Elm St, Greensboro, NC 27401, USA\n",
      "  End: 114 N Elm St #108, Greensboro, NC 27401, USA\n",
      "  Distance: 0.2 mi\n",
      "  Duration: 1 min\n",
      "Leg 6:\n",
      "  Start: 114 N Elm St #108, Greensboro, NC 27401, USA\n",
      "  End: Greensboro, NC 27401, USA\n",
      "  Distance: 0.4 mi\n",
      "  Duration: 2 mins\n",
      "https://www.google.com/maps/dir/?api=1&origin=216+W+Market+St%2C+Greensboro%2C+NC+27401%2C+USA&destination=Sweet%27s+Turkey+BBQ+and+Catering+%28Food+Truck%29&waypoints=Sweet%27s+Turkey+BBQ+and+Catering+%28Food+Truck%29|Maho%27s+Bistro|Skeel%27s+Ice+Cream+Trucks|International+Food%2C+LLC|Crafted+The+Art+of+the+Taco&travelmode=walking\n"
     ]
    }
   ],
   "source": [
    "directions_result = gmaps.directions(location_s, destination, waypoints=plan['Name'].to_list(), optimize_waypoints=True)\n",
    "for i, leg in enumerate(directions_result[0]['legs']):\n",
    "    print(f\"Leg {i+1}:\")\n",
    "    print(f\"  Start: {leg['start_address']}\")\n",
    "    print(f\"  End: {leg['end_address']}\")\n",
    "    print(f\"  Distance: {leg['distance']['text']}\")\n",
    "    print(f\"  Duration: {leg['duration']['text']}\")\n",
    "\n",
    "print(generate_gmaps_url(location_s, destination, plan['Name'].to_list(), mode='driving' if plan['Transportation Type'].any() == 'driving' else 'walking'))"
   ]
  }
 ],
 "metadata": {
  "kernelspec": {
   "display_name": "venv",
   "language": "python",
   "name": "python3"
  },
  "language_info": {
   "codemirror_mode": {
    "name": "ipython",
    "version": 3
   },
   "file_extension": ".py",
   "mimetype": "text/x-python",
   "name": "python",
   "nbconvert_exporter": "python",
   "pygments_lexer": "ipython3",
   "version": "3.11.2"
  }
 },
 "nbformat": 4,
 "nbformat_minor": 2
}
